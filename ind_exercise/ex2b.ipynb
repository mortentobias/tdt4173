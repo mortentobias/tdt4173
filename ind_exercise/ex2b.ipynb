{
 "cells": [
  {
   "cell_type": "markdown",
   "id": "22998a23-ee0b-49d9-aeab-3e2a0b58233a",
   "metadata": {},
   "source": [
    "# Exercise 2b: Feature engineering"
   ]
  },
  {
   "cell_type": "code",
   "execution_count": 1,
   "id": "f8a317c8-04e8-4576-9c13-3c442db44a77",
   "metadata": {},
   "outputs": [],
   "source": [
    "import pandas as pd\n",
    "import numpy as np\n",
    "from sklearn.ensemble import RandomForestClassifier\n",
    "from sklearn.metrics import accuracy_score, precision_score, recall_score, f1_score, roc_auc_score\n",
    "import re\n",
    "import seaborn as sns\n",
    "import matplotlib.pyplot as plt"
   ]
  },
  {
   "cell_type": "code",
   "execution_count": 2,
   "id": "33ce8c0b-6a58-4d2e-85ad-97a030728aa3",
   "metadata": {},
   "outputs": [],
   "source": [
    "X_train = pd.read_csv(\"ex2_train.csv\")\n",
    "y_train = pd.read_csv(\"ex2_class_train.csv\")\n",
    "X_test = pd.read_csv(\"ex2_test.csv\")\n",
    "y_test = pd.read_csv(\"ex2_class_test.csv\")"
   ]
  },
  {
   "cell_type": "code",
   "execution_count": 3,
   "id": "0e635220-45a4-4ac6-8abb-74fcea9c1246",
   "metadata": {},
   "outputs": [],
   "source": [
    "# define a utility function to print out the prediction performance\n",
    "def evaluate_result(y_test, y_pred, clf):\n",
    "    print(f'Accuracy: {accuracy_score(y_test, y_pred):.4f}')\n",
    "    print(f'Precision: {precision_score(y_test, y_pred):.4f}')\n",
    "    print(f'Recall: {recall_score(y_test, y_pred):.4f}')\n",
    "    print(f'F1-score: {f1_score(y_test, y_pred):.4f}')\n",
    "    print(f'AUC-ROC: {roc_auc_score(y_test, clf.predict_proba(X_test_processed)[:, 1]):.4f}')"
   ]
  },
  {
   "cell_type": "markdown",
   "id": "1a1fa4f4-8b1e-4359-b298-97de5d6e0840",
   "metadata": {},
   "source": [
    "## Prototyping (without feature engineering)"
   ]
  },
  {
   "cell_type": "code",
   "execution_count": 4,
   "id": "6643b644-53b2-4513-84b2-62edaa63e818",
   "metadata": {},
   "outputs": [],
   "source": [
    "def preprocess(data_in):\n",
    "    data = data_in.drop(columns=['Name'])\n",
    "    \n",
    "    data['Age'].fillna(data['Age'].median(), inplace=True)\n",
    "    data['Embarked'].fillna(data['Embarked'].mode()[0], inplace=True)\n",
    "    data['Fare'].fillna(data['Fare'].median(), inplace=True)\n",
    "\n",
    "    # Convert categorical variables to dummy/indicator variables\n",
    "    data = pd.get_dummies(data, columns=['Sex', 'Embarked'], drop_first=True)\n",
    "\n",
    "    return data"
   ]
  },
  {
   "cell_type": "code",
   "execution_count": 5,
   "id": "af145646-113d-42d4-b8a3-f52ece874f71",
   "metadata": {},
   "outputs": [
    {
     "name": "stdout",
     "output_type": "stream",
     "text": [
      "Random Forest Model without Feature Engineering\n",
      "Accuracy: 0.8101\n",
      "Precision: 0.7778\n",
      "Recall: 0.7568\n",
      "F1-score: 0.7671\n",
      "AUC-ROC: 0.8736\n"
     ]
    }
   ],
   "source": [
    "X_train_processed = preprocess(X_train)\n",
    "X_test_processed = preprocess(X_test)\n",
    "\n",
    "clf = RandomForestClassifier(n_estimators=100, random_state=42)\n",
    "clf.fit(X_train_processed, y_train.values.ravel())\n",
    "y_pred = clf.predict(X_test_processed)\n",
    "\n",
    "print('Random Forest Model without Feature Engineering')\n",
    "evaluate_result(y_test, y_pred, clf)"
   ]
  },
  {
   "cell_type": "markdown",
   "id": "d2cb06d7-fd81-4154-ae43-8ed797814872",
   "metadata": {},
   "source": [
    "## Feature engineering"
   ]
  },
  {
   "cell_type": "markdown",
   "id": "3cb5ba1c-40f5-4b3c-8afd-4f9346881376",
   "metadata": {},
   "source": [
    "The classification using simple preprocessed data gives only mediocre performance.\n",
    "\n",
    "**TODO: You should make use of the insights from your EDA (ex2a) to complete the following feature engineering function below.** Later the function will replace the simple preprocessing.\n",
    "\n",
    "You will pass the exercise if your feature engineering can improve the performance (i.e., winning in three or more metrics)."
   ]
  },
  {
   "cell_type": "code",
   "execution_count": 6,
   "id": "59504a4f-4ef2-47f0-85a4-5b5ff6916b3c",
   "metadata": {},
   "outputs": [],
   "source": [
    "def feature_engineering(data_in):\n",
    "    df = data_in.copy()\n",
    "\n",
    "    # Write your feature engineering code here. The following line is just a placeholder. You can remove it if needed.\n",
    "    df = preprocess(df)\n",
    "    \n",
    "    return df"
   ]
  },
  {
   "cell_type": "code",
   "execution_count": 7,
   "id": "96d5d93a-60bf-4c79-acf8-91111162e4eb",
   "metadata": {},
   "outputs": [
    {
     "name": "stdout",
     "output_type": "stream",
     "text": [
      "Random Forest Model with Feature Engineering\n",
      "Accuracy: 0.8101\n",
      "Precision: 0.7778\n",
      "Recall: 0.7568\n",
      "F1-score: 0.7671\n",
      "AUC-ROC: 0.8736\n"
     ]
    }
   ],
   "source": [
    "X_train_processed = feature_engineering(X_train)\n",
    "X_test_processed = feature_engineering(X_test)\n",
    "\n",
    "clf = RandomForestClassifier(n_estimators=100, random_state=42)\n",
    "clf.fit(X_train_processed, y_train.values.ravel())\n",
    "y_pred = clf.predict(X_test_processed)\n",
    "\n",
    "print('Random Forest Model with Feature Engineering')\n",
    "evaluate_result(y_test, y_pred, clf)"
   ]
  },
  {
   "cell_type": "code",
   "execution_count": null,
   "id": "f4e070ab-55c3-40a0-b3e6-243109565900",
   "metadata": {},
   "outputs": [],
   "source": []
  }
 ],
 "metadata": {
  "kernelspec": {
   "display_name": "Python 3 (ipykernel)",
   "language": "python",
   "name": "python3"
  },
  "language_info": {
   "codemirror_mode": {
    "name": "ipython",
    "version": 3
   },
   "file_extension": ".py",
   "mimetype": "text/x-python",
   "name": "python",
   "nbconvert_exporter": "python",
   "pygments_lexer": "ipython3",
   "version": "3.11.7"
  }
 },
 "nbformat": 4,
 "nbformat_minor": 5
}
