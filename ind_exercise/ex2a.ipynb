{
 "cells": [
  {
   "cell_type": "markdown",
   "metadata": {},
   "source": [
    "# Excercise 2a: Exploratory Data Analysis"
   ]
  },
  {
   "cell_type": "code",
   "execution_count": 106,
   "metadata": {},
   "outputs": [],
   "source": [
    "import pandas as pd\n",
    "import numpy as np\n",
    "import re\n",
    "import seaborn as sns\n",
    "import matplotlib.pyplot as plt"
   ]
  },
  {
   "cell_type": "code",
   "execution_count": 107,
   "metadata": {},
   "outputs": [],
   "source": [
    "X_train = pd.read_csv(\"ex2_train.csv\")\n",
    "y_train = pd.read_csv(\"ex2_class_train.csv\")\n",
    "data = X_train.copy()\n",
    "data['Survived'] = y_train"
   ]
  },
  {
   "cell_type": "code",
   "execution_count": 108,
   "metadata": {},
   "outputs": [
    {
     "data": {
      "text/html": [
       "<div>\n",
       "<style scoped>\n",
       "    .dataframe tbody tr th:only-of-type {\n",
       "        vertical-align: middle;\n",
       "    }\n",
       "\n",
       "    .dataframe tbody tr th {\n",
       "        vertical-align: top;\n",
       "    }\n",
       "\n",
       "    .dataframe thead th {\n",
       "        text-align: right;\n",
       "    }\n",
       "</style>\n",
       "<table border=\"1\" class=\"dataframe\">\n",
       "  <thead>\n",
       "    <tr style=\"text-align: right;\">\n",
       "      <th></th>\n",
       "      <th>Pclass</th>\n",
       "      <th>Name</th>\n",
       "      <th>Sex</th>\n",
       "      <th>Age</th>\n",
       "      <th>SibSp</th>\n",
       "      <th>Parch</th>\n",
       "      <th>Fare</th>\n",
       "      <th>Embarked</th>\n",
       "      <th>Survived</th>\n",
       "    </tr>\n",
       "  </thead>\n",
       "  <tbody>\n",
       "    <tr>\n",
       "      <th>0</th>\n",
       "      <td>1</td>\n",
       "      <td>Partner, Mr. Austen</td>\n",
       "      <td>male</td>\n",
       "      <td>45.5</td>\n",
       "      <td>0</td>\n",
       "      <td>0</td>\n",
       "      <td>28.5000</td>\n",
       "      <td>S</td>\n",
       "      <td>0</td>\n",
       "    </tr>\n",
       "    <tr>\n",
       "      <th>1</th>\n",
       "      <td>2</td>\n",
       "      <td>Berriman, Mr. William John</td>\n",
       "      <td>male</td>\n",
       "      <td>23.0</td>\n",
       "      <td>0</td>\n",
       "      <td>0</td>\n",
       "      <td>13.0000</td>\n",
       "      <td>S</td>\n",
       "      <td>0</td>\n",
       "    </tr>\n",
       "    <tr>\n",
       "      <th>2</th>\n",
       "      <td>3</td>\n",
       "      <td>Tikkanen, Mr. Juho</td>\n",
       "      <td>male</td>\n",
       "      <td>32.0</td>\n",
       "      <td>0</td>\n",
       "      <td>0</td>\n",
       "      <td>7.9250</td>\n",
       "      <td>S</td>\n",
       "      <td>0</td>\n",
       "    </tr>\n",
       "    <tr>\n",
       "      <th>3</th>\n",
       "      <td>3</td>\n",
       "      <td>Hansen, Mr. Henrik Juul</td>\n",
       "      <td>male</td>\n",
       "      <td>26.0</td>\n",
       "      <td>1</td>\n",
       "      <td>0</td>\n",
       "      <td>7.8542</td>\n",
       "      <td>S</td>\n",
       "      <td>0</td>\n",
       "    </tr>\n",
       "    <tr>\n",
       "      <th>4</th>\n",
       "      <td>3</td>\n",
       "      <td>Andersson, Miss. Ebba Iris Alfrida</td>\n",
       "      <td>female</td>\n",
       "      <td>6.0</td>\n",
       "      <td>4</td>\n",
       "      <td>2</td>\n",
       "      <td>31.2750</td>\n",
       "      <td>S</td>\n",
       "      <td>0</td>\n",
       "    </tr>\n",
       "  </tbody>\n",
       "</table>\n",
       "</div>"
      ],
      "text/plain": [
       "   Pclass                                Name     Sex   Age  SibSp  Parch  \\\n",
       "0       1                 Partner, Mr. Austen    male  45.5      0      0   \n",
       "1       2          Berriman, Mr. William John    male  23.0      0      0   \n",
       "2       3                  Tikkanen, Mr. Juho    male  32.0      0      0   \n",
       "3       3             Hansen, Mr. Henrik Juul    male  26.0      1      0   \n",
       "4       3  Andersson, Miss. Ebba Iris Alfrida  female   6.0      4      2   \n",
       "\n",
       "      Fare Embarked  Survived  \n",
       "0  28.5000        S         0  \n",
       "1  13.0000        S         0  \n",
       "2   7.9250        S         0  \n",
       "3   7.8542        S         0  \n",
       "4  31.2750        S         0  "
      ]
     },
     "execution_count": 108,
     "metadata": {},
     "output_type": "execute_result"
    }
   ],
   "source": [
    "data.head()"
   ]
  },
  {
   "cell_type": "markdown",
   "metadata": {},
   "source": [
    "This is a widely used dataset that contains information on the passengers who were aboard the Titanic when it sank on its maiden voyage in 1912. We will use it for a supervised learning exercise (ex2b) to predict whether a passenger can survive based on his or her attributes. Before constructing the classifier, you need to do some guided exploratory data analysis in ex2a.\n",
    "\n",
    "The column meanings are: \n",
    "* Survived: Survival status (0 = No, 1 = Yes).\n",
    "* Pclass: Ticket class (1 = 1st, 2 = 2nd, 3 = 3rd).\n",
    "* Name: Name of the passenger.\n",
    "* Sex: Gender of the passenger (male/female).\n",
    "* Age: Age of the passenger in years.\n",
    "* SibSp: Number of siblings/spouses aboard the Titanic.\n",
    "* Parch: Number of parents/children aboard the Titanic.\n",
    "* Fare: Passenger fare.\n",
    "* Embarked: Port of embarkation (C = Cherbourg, Q = Queenstown, S = Southampton).\n",
    "\n",
    "**TODO: Please answer the following questions by using suitable analysis tools, e.g. statistics or visualizations.** To pass the exercise, you need to correctly answer three or more of Questions 1 to 5. A correct answer includes a correct statement and the analysis result that support the statement."
   ]
  },
  {
   "cell_type": "markdown",
   "metadata": {},
   "source": [
    "# Example Question: Is gender related to survival rate?"
   ]
  },
  {
   "cell_type": "markdown",
   "metadata": {},
   "source": [
    "Answer: Yes, females had a higher survival rate."
   ]
  },
  {
   "cell_type": "code",
   "execution_count": 109,
   "metadata": {},
   "outputs": [
    {
     "data": {
      "image/png": "[encoded data removed]",
      "text/plain": [
       "<Figure size 640x480 with 1 Axes>"
      ]
     },
     "metadata": {},
     "output_type": "display_data"
    }
   ],
   "source": [
    "# Show the relevant statistics or visualization(s) to support your answer\n",
    "sns.barplot(x='Sex', y='Survived', data=data)\n",
    "plt.show()"
   ]
  },
  {
   "cell_type": "markdown",
   "metadata": {},
   "source": [
    "# Question 1: Did first-class passengers survive more?"
   ]
  },
  {
   "cell_type": "markdown",
   "metadata": {},
   "source": [
    "Answer: Yes. First class passengers had a higher survival rate than both second- and third-class passengers. "
   ]
  },
  {
   "cell_type": "code",
   "execution_count": 110,
   "metadata": {},
   "outputs": [
    {
     "data": {
      "image/png": "[encoded data removed]",
      "text/plain": [
       "<Figure size 640x480 with 1 Axes>"
      ]
     },
     "metadata": {},
     "output_type": "display_data"
    }
   ],
   "source": [
    "# Show the relevant statistics or visualization(s) to support your answer\n",
    "sns.barplot(x='Pclass', y='Survived', data=data)\n",
    "plt.show()"
   ]
  },
  {
   "cell_type": "markdown",
   "metadata": {},
   "source": [
    "# Question 2: Is survival related to Embarked?"
   ]
  },
  {
   "cell_type": "markdown",
   "metadata": {},
   "source": [
    "Answer: Yes. We can see that passengers that embarked at Cherbourg have a survival rate of 0.544, while Southampton and Queenstown have survival rates of 0.335 and 0.367 respectively. "
   ]
  },
  {
   "cell_type": "code",
   "execution_count": 111,
   "metadata": {},
   "outputs": [
    {
     "name": "stdout",
     "output_type": "stream",
     "text": [
      "Embarked\n",
      "C    0.544000\n",
      "Q    0.366667\n",
      "S    0.335238\n",
      "Name: Survived, dtype: float64\n"
     ]
    },
    {
     "data": {
      "image/png": "[encoded data removed]",
      "text/plain": [
       "<Figure size 640x480 with 1 Axes>"
      ]
     },
     "metadata": {},
     "output_type": "display_data"
    }
   ],
   "source": [
    "# Show the relevant statistics or visualization(s) to support your answer\n",
    "# Question 2: Is survival related to Embarked?\n",
    "sns.barplot(x='Embarked', y='Survived', data=data)\n",
    "print(data.groupby('Embarked').Survived.mean())"
   ]
  },
  {
   "cell_type": "markdown",
   "metadata": {},
   "source": [
    "# Question 3: How is age related to survival?"
   ]
  },
  {
   "cell_type": "markdown",
   "metadata": {},
   "source": [
    "Answer: Children (age 0-12) have the highest survival rate (0.569). Teens, young adults, adults, and middle aged people (12-65) have roughly the same survival rate, ranging from 0.377-0.391. Elderly people have a low survival rate: 0.2. "
   ]
  },
  {
   "cell_type": "code",
   "execution_count": 112,
   "metadata": {},
   "outputs": [
    {
     "name": "stdout",
     "output_type": "stream",
     "text": [
      "AgeClass\n",
      "child          0.569\n",
      "teen           0.377\n",
      "young_adult    0.389\n",
      "adult          0.393\n",
      "middle_aged    0.391\n",
      "elderly        0.200\n",
      "Name: Survived, dtype: float64\n"
     ]
    },
    {
     "data": {
      "image/png": "[encoded data removed]",
      "text/plain": [
       "<Figure size 640x480 with 1 Axes>"
      ]
     },
     "metadata": {},
     "output_type": "display_data"
    }
   ],
   "source": [
    "# Show the relevant statistics or visualization(s) to support your answer\n",
    "# Question 3: Is survival related to Age?\n",
    "data['AgeClass'] = pd.cut(data['Age'], bins=[0, 12, 18, 35, 50, 65, 100], labels=['child', 'teen', 'young_adult', 'adult', 'middle_aged', 'elderly'])\n",
    "sns.barplot(x='AgeClass', y='Survived', data=data)\n",
    "print(data.groupby('AgeClass', observed=True).Survived.mean().round(3))"
   ]
  },
  {
   "cell_type": "markdown",
   "metadata": {},
   "source": [
    "# Question 4: Does family size somehow affect the survival rate?"
   ]
  },
  {
   "cell_type": "markdown",
   "metadata": {},
   "source": [
    "Answer: Yes. Passengers with family sizes of 1, 2, and 3 have higher survival rates (51.9%, 55.7%, and 73.1%, respectively), while passengers with family sizes of 0, 4, 5, 6, 7, and 10 have lower survival rates, with the lowest being 0% for family sizes of 7 and 10."
   ]
  },
  {
   "cell_type": "code",
   "execution_count": 113,
   "metadata": {},
   "outputs": [
    {
     "name": "stdout",
     "output_type": "stream",
     "text": [
      "FamilySize\n",
      "0     0.305361\n",
      "1     0.519685\n",
      "2     0.556962\n",
      "3     0.730769\n",
      "4     0.181818\n",
      "5     0.176471\n",
      "6     0.300000\n",
      "7     0.000000\n",
      "10    0.000000\n",
      "Name: Survived, dtype: float64\n"
     ]
    },
    {
     "data": {
      "image/png": "[encoded data removed]",
      "text/plain": [
       "<Figure size 640x480 with 1 Axes>"
      ]
     },
     "metadata": {},
     "output_type": "display_data"
    }
   ],
   "source": [
    "# Show the relevant statistics or visualization(s) to support your answer\n",
    "# Question 4: Is survival related to parch or sibsp?\n",
    "data['FamilySize'] = data['Parch'] + data['SibSp']\n",
    "sns.barplot(x='FamilySize', y='Survived', data=data)\n",
    "print(data.groupby('FamilySize').Survived.mean())"
   ]
  },
  {
   "cell_type": "markdown",
   "metadata": {},
   "source": [
    "# Question 5: Some passengers with certain titles seemed to have more chance to survive. Is that true?\n",
    "\n"
   ]
  },
  {
   "cell_type": "markdown",
   "id": "0c9f2715",
   "metadata": {},
   "source": [
    "Answer: Yes.\n",
    "\n",
    "Here are the survival rates for various titles:\n",
    "\n",
    "| Title         | Survival Rate |\n",
    "|---------------|---------------|\n",
    "| Lady          | 1.000         |\n",
    "| the Countess  | 1.000         |\n",
    "| Mrs           | 0.835         |\n",
    "| Miss          | 0.671         |\n",
    "| Master        | 0.545         |\n",
    "| Col           | 0.500         |\n",
    "| Major         | 0.500         |\n",
    "| Dr            | 0.400         |\n",
    "| Mr            | 0.155         |\n",
    "| Capt          | 0.000         |\n",
    "| Rev           | 0.000         |\n",
    "\n",
    "- Titles such as \"Lady\" and \"the Countess\" had a 100% survival rate, indicating that all passengers with these titles survived.\n",
    "- Titles like \"Mrs\" and \"Miss\" also had relatively high survival rates of 83.5% and 67.1%, respectively.\n",
    "- Titles such as \"Master,\" \"Col,\" and \"Major\" had moderate survival rates ranging from 50% to 54.5%.\n",
    "- Titles like \"Dr\" and \"Mr\" had lower survival rates of 40% and 15.5%, respectively.\n",
    "- Titles such as \"Capt\" and \"Rev\" had a 0% survival rate, indicating that no passengers with these titles survived.\n",
    "\n",
    "In conclusion, passengers with certain titles, particularly those with higher social status or female titles, had a higher chance of survival compared to others."
   ]
  },
  {
   "cell_type": "code",
   "execution_count": 114,
   "id": "26daebcd",
   "metadata": {},
   "outputs": [
    {
     "name": "stdout",
     "output_type": "stream",
     "text": [
      "Title\n",
      "Mr              419\n",
      "Miss            146\n",
      "Mrs              97\n",
      "Master           33\n",
      "Rev               5\n",
      "Dr                5\n",
      "Major             2\n",
      "Col               2\n",
      "Capt              1\n",
      "the Countess      1\n",
      "Lady              1\n",
      "Name: count, dtype: int64\n",
      "Title\n",
      "Lady            1.000\n",
      "the Countess    1.000\n",
      "Mrs             0.835\n",
      "Miss            0.671\n",
      "Master          0.545\n",
      "Col             0.500\n",
      "Major           0.500\n",
      "Dr              0.400\n",
      "Mr              0.155\n",
      "Capt            0.000\n",
      "Rev             0.000\n",
      "Name: Survived, dtype: float64\n"
     ]
    }
   ],
   "source": [
    "data['Title'] = data['Name'].apply(lambda name: name.split(',')[1].split('.')[0].strip())\n",
    "\n",
    "# Standardize titles\n",
    "title_replacements = {\n",
    "    'Mlle': 'Miss',\n",
    "    'Mme': 'Mrs',\n",
    "    'Ms': 'Miss',\n",
    "}\n",
    "\n",
    "data['Title'] = data['Title'].replace(title_replacements)\n",
    "\n",
    "# Count people per title\n",
    "print(data['Title'].value_counts())\n",
    "\n",
    "# Print survival rate per title\n",
    "print(data.groupby('Title')['Survived'].mean().round(3).sort_values(ascending=False))"
   ]
  }
 ],
 "metadata": {
  "kernelspec": {
   "display_name": "Python 3",
   "language": "python",
   "name": "python3"
  },
  "language_info": {
   "codemirror_mode": {
    "name": "ipython",
    "version": 3
   },
   "file_extension": ".py",
   "mimetype": "text/x-python",
   "name": "python",
   "nbconvert_exporter": "python",
   "pygments_lexer": "ipython3",
   "version": "3.12.4"
  }
 },
 "nbformat": 4,
 "nbformat_minor": 5
}
